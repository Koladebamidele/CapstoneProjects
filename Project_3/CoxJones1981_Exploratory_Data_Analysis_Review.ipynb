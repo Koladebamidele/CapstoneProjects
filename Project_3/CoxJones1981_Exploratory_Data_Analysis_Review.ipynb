{
 "cells": [
  {
   "cell_type": "markdown",
   "id": "f77c941d",
   "metadata": {},
   "source": [
    "## CoxJones 1981 Exploratory Data Analysis\n",
    "In Exploratory Data Analysis, attempts are made to identify the major features of a dataset of interest and to generate ideas for further investigation. While in Confirmatory Data Analysis, attention is focused on model specification, parameter estimation, hypothesis testing and firm decisions about data. This distinction made by the statistician J.W. Turkey, is essentially that between descriptive and inferential statistics. \n",
    "    Four themes are apparent on Exploratory Data Analysis; \n",
    "1.\tDisplays,\n",
    "2.\tResidual,\n",
    "3.\tTransformations and\n",
    "4.\tResistance.\n",
    "\n",
    "Displays: Plot both your data and the data and the results of data analysis is one of the basic attitudes of EDA. Displays reveal the major features of data, help in the production of ideas for further investigation and are useful in checking assumptions. Graphical inspections allows the identification of outliers, nonlinearities, discontinuities, skewness and other characteristics of the data which may make or mar the analysis.\n",
    "\n",
    "Residuals are the remainders left after a model after(any kind of summary description, from something simple like a measure of level to something more complex like a multiple regression) has been fitted to data. Graphical display is the most useful weapon available for analysis of residuals.\n",
    "\n",
    "Resistance: much theory behind statistical methods is concerned with optimal procedures, which are best according to specific criteria if particular assumptions about generating processes are satisfied. It is desirable that procedures be robust and work well under a variety of conditions not just under idealized specific conditions for which they have been proven optimal. Robustness is especially important in Exploratory work since it would be foolish to be confident that an unexamined set of data satisfies assumptions about behaviour.\n",
    "\n",
    "Transformation of geographical data has usually been motivated by an inferential approach, and particularly by the idea that hypothesis testing requires data drawn from Guassian(Normal) distribution. One common aim of re-expressing variables has been normalization of frequency distribution. The degree of success of any transformation may be assessed by inspection of histograms or probability plots, calculation of skewness and kurtosis or performance of some distribution free test such as chi-square. \n",
    "\n",
    "Smoothing is an approach used in EDA of special interest to geographers who are commonly faced with data in the form of spatial or time-series. It is appropriate if data series may be regarded as a mixture of smooth and rough components, whereby\n",
    "data = smooth + rough\n",
    "for example, data may be regarded as 'signal' mixed with ' noise', 'true values' mixed with 'measurement error', ' long-term trend' mixed with 'short-term fluctuation', or as 'regional trend' mixed with 'local deviation'. Popular smoothing methods used in quantitative geography can be classified as either linear function fitting or local linear smoothing. In linear function fitting we adopt a precisely specified model of the general form\n",
    "data = linear function + stochastic error\n",
    "\n",
    "Inference: statistical methods in geography appears to be based, at least implicitly with views that descriptive statistics are rather obvious, if not trivial, while inferential statistics are both more challenging and more valuable intellectual.\n"
   ]
  }
 ],
 "metadata": {
  "kernelspec": {
   "display_name": "Python 3 (ipykernel)",
   "language": "python",
   "name": "python3"
  },
  "language_info": {
   "codemirror_mode": {
    "name": "ipython",
    "version": 3
   },
   "file_extension": ".py",
   "mimetype": "text/x-python",
   "name": "python",
   "nbconvert_exporter": "python",
   "pygments_lexer": "ipython3",
   "version": "3.9.7"
  }
 },
 "nbformat": 4,
 "nbformat_minor": 5
}
